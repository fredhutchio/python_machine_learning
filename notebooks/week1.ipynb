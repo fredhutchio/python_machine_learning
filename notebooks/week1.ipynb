{
 "cells": [
  {
   "cell_type": "code",
   "execution_count": null,
   "metadata": {},
   "outputs": [],
   "source": [
    "# Portions of today's lesson were adapted from materials developed by Susan Fung and Hanna Landrus."
   ]
  },
  {
   "cell_type": "markdown",
   "metadata": {},
   "source": [
    "# fredhutch.io -- Intermediate Python: Machine Learning\n",
    "Fred Hutchinson Cancer Research Center"
   ]
  },
  {
   "cell_type": "markdown",
   "metadata": {},
   "source": [
    "# Week 1 -- Basic Data Understanding and Preparation: Data Import, Cleaning, Visualization, and Feature Engineering\n",
    "We have access to a set of data describing a variety of features about people's commutes. We're hoping to use these data to predict how long a new person's commute will be given some information about them. Can machine learning help us achieve our goal?"
   ]
  },
  {
   "cell_type": "markdown",
   "metadata": {},
   "source": [
    "### FIXME: format intro to course more like other courses"
   ]
  },
  {
   "cell_type": "markdown",
   "metadata": {},
   "source": [
    "### By the end of today's class, you should be able to:\n",
    "* Import a simple dataset and explore different qualitative and quantitative aspects of the data\n",
    "* Perform simple cleaning and visualization with single variables\n",
    "* Prepare the data for further analysis by engineering new features (columns) from existing numeric and categorical features\n",
    "* Discuss how writing functions and classes can save considerable effort by allowing us to maintain control over inputs and avoid repetitious editing."
   ]
  },
  {
   "cell_type": "markdown",
   "metadata": {},
   "source": [
    "### Throughout we've scattered pairs of cells like the 2 immediately below. Use them to note your thoughts, answers to questions, and the code you're experimenting with.\n",
    "(remember that you can change the type of a cell by going into command mode (cell highlighted in blue) and pressing `m` for markdown and `y` for code)"
   ]
  },
  {
   "cell_type": "markdown",
   "metadata": {},
   "source": [
    "### FIXME: Is this how we want to continue formatting the course (including cells for notes). How do we want students to work through this course?\n",
    "\n",
    "### FIXME: Formatting - comment in code chunk vs markdown text"
   ]
  },
  {
   "cell_type": "markdown",
   "metadata": {},
   "source": [
    "__________\n",
    "Notes (markdown):"
   ]
  },
  {
   "cell_type": "code",
   "execution_count": null,
   "metadata": {},
   "outputs": [],
   "source": [
    "# Scratch area (code)"
   ]
  },
  {
   "cell_type": "markdown",
   "metadata": {},
   "source": [
    "## EDA, Data Import, Cleaning, Visualization\n",
    "What do we need to do with the data first in order to decide where to go and how to use machine learning thoughtfully?"
   ]
  },
  {
   "cell_type": "markdown",
   "metadata": {},
   "source": [
    "### FIXME: Link to EDA section of concepts"
   ]
  },
  {
   "cell_type": "markdown",
   "metadata": {},
   "source": [
    "### FIXME: Include some context, why"
   ]
  },
  {
   "cell_type": "code",
   "execution_count": 1,
   "metadata": {},
   "outputs": [],
   "source": [
    "# Import libraries\n",
    "\n",
    "# Data exploration\n",
    "import pandas as pd\n",
    "import numpy as np\n",
    "\n",
    "# Data visualization\n",
    "import matplotlib.pyplot as plt\n",
    "\n",
    "# The % signifies a ipynb \"magic function\". This line allows the figure to be rendered in the notebook next to the\n",
    "# code. \n",
    "%matplotlib inline"
   ]
  },
  {
   "cell_type": "code",
   "execution_count": null,
   "metadata": {},
   "outputs": [],
   "source": [
    "### What versions are you running?\n",
    "print(\"Pandas version:\",pd.__version__)\n",
    "print(\"Numpy version:\",np.__version__)"
   ]
  },
  {
   "cell_type": "code",
   "execution_count": 3,
   "metadata": {},
   "outputs": [],
   "source": [
    "# Read in the data. Remember to pass in the full file path!\n",
    "training_dataset_path = '../data/commute-times-train.csv'\n",
    "testing_dataset_path = '../data/commute-times-test.csv'\n",
    "train_data_raw = pd.read_csv(training_dataset_path, index_col=[0], parse_dates=['time_of_day_ts'])\n",
    "test_data_raw = pd.read_csv(testing_dataset_path, index_col=[0], parse_dates=['time_of_day_ts'])"
   ]
  },
  {
   "cell_type": "markdown",
   "metadata": {},
   "source": [
    "__________\n",
    "Notes (markdown):"
   ]
  },
  {
   "cell_type": "code",
   "execution_count": 4,
   "metadata": {},
   "outputs": [
    {
     "name": "stdout",
     "output_type": "stream",
     "text": [
      "      source_latitude  source_longitude  destination_latitude  \\\n",
      "0            0.286584          0.434895             -0.148908   \n",
      "1           -0.069378         -0.130760              0.028018   \n",
      "2            0.513261          0.816162             -0.002093   \n",
      "3            0.927316          0.218670             -0.006910   \n",
      "4           -0.148913         -0.613791             -0.283174   \n",
      "...               ...               ...                   ...   \n",
      "9995        -0.605611          0.673990             -0.467632   \n",
      "9996         0.773968         -0.069147             -0.225571   \n",
      "9997         0.129808         -0.721049             -0.923990   \n",
      "9998         0.635468          0.585121             -0.837372   \n",
      "9999        -0.418401         -0.516162             -0.506940   \n",
      "\n",
      "      destination_longitude      time_of_day_ts commute_type  commute_time  \n",
      "0                 -0.662772 2018-08-13 16:54:00          CAR     15.481346  \n",
      "1                  0.693949 2018-08-13 04:17:00        TRAIN      6.415095  \n",
      "2                  0.886139 2018-08-13 13:41:00          CAR     11.866431  \n",
      "3                  0.577225 2018-08-13 10:20:00          BUS     26.445506  \n",
      "4                  0.443738 2018-08-13 16:36:00         BIKE     29.103380  \n",
      "...                     ...                 ...          ...           ...  \n",
      "9995               0.795365 2018-08-13 17:08:00          CAR      6.131008  \n",
      "9996              -0.804465 2018-08-13 08:23:00          BUS     27.211314  \n",
      "9997              -0.212138 2018-08-13 17:40:00          CAR     15.930217  \n",
      "9998              -0.292632 2018-08-13 13:38:00        TRAIN     12.163663  \n",
      "9999               0.005207 2018-08-13 19:34:00          BUS     20.324588  \n",
      "\n",
      "[10000 rows x 7 columns]\n"
     ]
    }
   ],
   "source": [
    "# Scratch area (code)\n",
    "print(test_data_raw)"
   ]
  },
  {
   "cell_type": "markdown",
   "metadata": {},
   "source": [
    "### Quick primer to viewing data"
   ]
  },
  {
   "cell_type": "code",
   "execution_count": 4,
   "metadata": {},
   "outputs": [],
   "source": [
    "# How to quickly access docstring on syntax\n",
    "?pd.DataFrame.head"
   ]
  },
  {
   "cell_type": "code",
   "execution_count": 5,
   "metadata": {},
   "outputs": [
    {
     "data": {
      "text/html": [
       "<div>\n",
       "<style scoped>\n",
       "    .dataframe tbody tr th:only-of-type {\n",
       "        vertical-align: middle;\n",
       "    }\n",
       "\n",
       "    .dataframe tbody tr th {\n",
       "        vertical-align: top;\n",
       "    }\n",
       "\n",
       "    .dataframe thead th {\n",
       "        text-align: right;\n",
       "    }\n",
       "</style>\n",
       "<table border=\"1\" class=\"dataframe\">\n",
       "  <thead>\n",
       "    <tr style=\"text-align: right;\">\n",
       "      <th></th>\n",
       "      <th>source_latitude</th>\n",
       "      <th>source_longitude</th>\n",
       "      <th>destination_latitude</th>\n",
       "      <th>destination_longitude</th>\n",
       "      <th>time_of_day_ts</th>\n",
       "      <th>commute_type</th>\n",
       "      <th>commute_time</th>\n",
       "    </tr>\n",
       "  </thead>\n",
       "  <tbody>\n",
       "    <tr>\n",
       "      <td>0</td>\n",
       "      <td>-0.182809</td>\n",
       "      <td>0.361579</td>\n",
       "      <td>0.485623</td>\n",
       "      <td>0.300347</td>\n",
       "      <td>2018-08-13 16:56:00</td>\n",
       "      <td>BUS</td>\n",
       "      <td>25.156297</td>\n",
       "    </tr>\n",
       "    <tr>\n",
       "      <td>1</td>\n",
       "      <td>0.160297</td>\n",
       "      <td>0.064330</td>\n",
       "      <td>0.702545</td>\n",
       "      <td>-0.116307</td>\n",
       "      <td>2018-08-13 18:19:00</td>\n",
       "      <td>CAR</td>\n",
       "      <td>12.937429</td>\n",
       "    </tr>\n",
       "    <tr>\n",
       "      <td>2</td>\n",
       "      <td>0.762229</td>\n",
       "      <td>0.486693</td>\n",
       "      <td>0.197252</td>\n",
       "      <td>0.790051</td>\n",
       "      <td>2018-08-13 17:36:00</td>\n",
       "      <td>BIKE</td>\n",
       "      <td>29.013729</td>\n",
       "    </tr>\n",
       "    <tr>\n",
       "      <td>3</td>\n",
       "      <td>0.187947</td>\n",
       "      <td>0.508487</td>\n",
       "      <td>-0.372924</td>\n",
       "      <td>-0.914006</td>\n",
       "      <td>2018-08-13 07:41:00</td>\n",
       "      <td>CAR</td>\n",
       "      <td>18.215423</td>\n",
       "    </tr>\n",
       "    <tr>\n",
       "      <td>4</td>\n",
       "      <td>-0.431013</td>\n",
       "      <td>-0.600620</td>\n",
       "      <td>0.729273</td>\n",
       "      <td>0.215633</td>\n",
       "      <td>2018-08-13 15:56:00</td>\n",
       "      <td>TRAIN</td>\n",
       "      <td>11.196802</td>\n",
       "    </tr>\n",
       "  </tbody>\n",
       "</table>\n",
       "</div>"
      ],
      "text/plain": [
       "   source_latitude  source_longitude  destination_latitude  \\\n",
       "0        -0.182809          0.361579              0.485623   \n",
       "1         0.160297          0.064330              0.702545   \n",
       "2         0.762229          0.486693              0.197252   \n",
       "3         0.187947          0.508487             -0.372924   \n",
       "4        -0.431013         -0.600620              0.729273   \n",
       "\n",
       "   destination_longitude      time_of_day_ts commute_type  commute_time  \n",
       "0               0.300347 2018-08-13 16:56:00          BUS     25.156297  \n",
       "1              -0.116307 2018-08-13 18:19:00          CAR     12.937429  \n",
       "2               0.790051 2018-08-13 17:36:00         BIKE     29.013729  \n",
       "3              -0.914006 2018-08-13 07:41:00          CAR     18.215423  \n",
       "4               0.215633 2018-08-13 15:56:00        TRAIN     11.196802  "
      ]
     },
     "execution_count": 5,
     "metadata": {},
     "output_type": "execute_result"
    }
   ],
   "source": [
    "# Read in the first five rows of data.\n",
    "train_data_raw.head()"
   ]
  },
  {
   "cell_type": "code",
   "execution_count": 6,
   "metadata": {},
   "outputs": [
    {
     "data": {
      "text/html": [
       "<div>\n",
       "<style scoped>\n",
       "    .dataframe tbody tr th:only-of-type {\n",
       "        vertical-align: middle;\n",
       "    }\n",
       "\n",
       "    .dataframe tbody tr th {\n",
       "        vertical-align: top;\n",
       "    }\n",
       "\n",
       "    .dataframe thead th {\n",
       "        text-align: right;\n",
       "    }\n",
       "</style>\n",
       "<table border=\"1\" class=\"dataframe\">\n",
       "  <thead>\n",
       "    <tr style=\"text-align: right;\">\n",
       "      <th></th>\n",
       "      <th>source_latitude</th>\n",
       "      <th>source_longitude</th>\n",
       "      <th>destination_latitude</th>\n",
       "      <th>destination_longitude</th>\n",
       "      <th>time_of_day_ts</th>\n",
       "      <th>commute_type</th>\n",
       "      <th>commute_time</th>\n",
       "    </tr>\n",
       "  </thead>\n",
       "  <tbody>\n",
       "    <tr>\n",
       "      <td>19835</td>\n",
       "      <td>0.661922</td>\n",
       "      <td>-0.541660</td>\n",
       "      <td>0.589588</td>\n",
       "      <td>0.393126</td>\n",
       "      <td>2018-08-13 02:34:00</td>\n",
       "      <td>TRAIN</td>\n",
       "      <td>6.867104</td>\n",
       "    </tr>\n",
       "    <tr>\n",
       "      <td>3404</td>\n",
       "      <td>0.959610</td>\n",
       "      <td>-0.233725</td>\n",
       "      <td>-0.149131</td>\n",
       "      <td>-0.929285</td>\n",
       "      <td>2018-08-13 18:58:00</td>\n",
       "      <td>CAR</td>\n",
       "      <td>15.878192</td>\n",
       "    </tr>\n",
       "    <tr>\n",
       "      <td>13277</td>\n",
       "      <td>-0.416952</td>\n",
       "      <td>0.408081</td>\n",
       "      <td>-0.048388</td>\n",
       "      <td>-0.186561</td>\n",
       "      <td>2018-08-13 18:37:00</td>\n",
       "      <td>BUS</td>\n",
       "      <td>23.500224</td>\n",
       "    </tr>\n",
       "  </tbody>\n",
       "</table>\n",
       "</div>"
      ],
      "text/plain": [
       "       source_latitude  source_longitude  destination_latitude  \\\n",
       "19835         0.661922         -0.541660              0.589588   \n",
       "3404          0.959610         -0.233725             -0.149131   \n",
       "13277        -0.416952          0.408081             -0.048388   \n",
       "\n",
       "       destination_longitude      time_of_day_ts commute_type  commute_time  \n",
       "19835               0.393126 2018-08-13 02:34:00        TRAIN      6.867104  \n",
       "3404               -0.929285 2018-08-13 18:58:00          CAR     15.878192  \n",
       "13277              -0.186561 2018-08-13 18:37:00          BUS     23.500224  "
      ]
     },
     "execution_count": 6,
     "metadata": {},
     "output_type": "execute_result"
    }
   ],
   "source": [
    "# Other options include using .tail() and .sample(). You can specify how many rows of data to see. The default is 5. \n",
    "train_data_raw.sample(3)"
   ]
  },
  {
   "cell_type": "code",
   "execution_count": 7,
   "metadata": {},
   "outputs": [
    {
     "data": {
      "text/html": [
       "<div>\n",
       "<style scoped>\n",
       "    .dataframe tbody tr th:only-of-type {\n",
       "        vertical-align: middle;\n",
       "    }\n",
       "\n",
       "    .dataframe tbody tr th {\n",
       "        vertical-align: top;\n",
       "    }\n",
       "\n",
       "    .dataframe thead th {\n",
       "        text-align: right;\n",
       "    }\n",
       "</style>\n",
       "<table border=\"1\" class=\"dataframe\">\n",
       "  <thead>\n",
       "    <tr style=\"text-align: right;\">\n",
       "      <th></th>\n",
       "      <th>source_latitude</th>\n",
       "      <th>source_longitude</th>\n",
       "      <th>destination_latitude</th>\n",
       "      <th>destination_longitude</th>\n",
       "      <th>commute_time</th>\n",
       "    </tr>\n",
       "  </thead>\n",
       "  <tbody>\n",
       "    <tr>\n",
       "      <td>count</td>\n",
       "      <td>20000.000000</td>\n",
       "      <td>20000.000000</td>\n",
       "      <td>20000.000000</td>\n",
       "      <td>20000.000000</td>\n",
       "      <td>20000.000000</td>\n",
       "    </tr>\n",
       "    <tr>\n",
       "      <td>mean</td>\n",
       "      <td>-0.002115</td>\n",
       "      <td>0.001366</td>\n",
       "      <td>0.004656</td>\n",
       "      <td>-0.002148</td>\n",
       "      <td>19.742193</td>\n",
       "    </tr>\n",
       "    <tr>\n",
       "      <td>std</td>\n",
       "      <td>0.494554</td>\n",
       "      <td>0.501270</td>\n",
       "      <td>0.498530</td>\n",
       "      <td>0.498508</td>\n",
       "      <td>8.234790</td>\n",
       "    </tr>\n",
       "    <tr>\n",
       "      <td>min</td>\n",
       "      <td>-0.996771</td>\n",
       "      <td>-0.997894</td>\n",
       "      <td>-0.998336</td>\n",
       "      <td>-0.997937</td>\n",
       "      <td>0.353436</td>\n",
       "    </tr>\n",
       "    <tr>\n",
       "      <td>25%</td>\n",
       "      <td>-0.394784</td>\n",
       "      <td>-0.404452</td>\n",
       "      <td>-0.397990</td>\n",
       "      <td>-0.402976</td>\n",
       "      <td>13.298351</td>\n",
       "    </tr>\n",
       "    <tr>\n",
       "      <td>50%</td>\n",
       "      <td>-0.002029</td>\n",
       "      <td>0.003488</td>\n",
       "      <td>0.007838</td>\n",
       "      <td>-0.001741</td>\n",
       "      <td>18.741689</td>\n",
       "    </tr>\n",
       "    <tr>\n",
       "      <td>75%</td>\n",
       "      <td>0.392261</td>\n",
       "      <td>0.406670</td>\n",
       "      <td>0.405283</td>\n",
       "      <td>0.398388</td>\n",
       "      <td>25.434019</td>\n",
       "    </tr>\n",
       "    <tr>\n",
       "      <td>max</td>\n",
       "      <td>0.999195</td>\n",
       "      <td>0.998077</td>\n",
       "      <td>0.997996</td>\n",
       "      <td>0.997447</td>\n",
       "      <td>49.819117</td>\n",
       "    </tr>\n",
       "  </tbody>\n",
       "</table>\n",
       "</div>"
      ],
      "text/plain": [
       "       source_latitude  source_longitude  destination_latitude  \\\n",
       "count     20000.000000      20000.000000          20000.000000   \n",
       "mean         -0.002115          0.001366              0.004656   \n",
       "std           0.494554          0.501270              0.498530   \n",
       "min          -0.996771         -0.997894             -0.998336   \n",
       "25%          -0.394784         -0.404452             -0.397990   \n",
       "50%          -0.002029          0.003488              0.007838   \n",
       "75%           0.392261          0.406670              0.405283   \n",
       "max           0.999195          0.998077              0.997996   \n",
       "\n",
       "       destination_longitude  commute_time  \n",
       "count           20000.000000  20000.000000  \n",
       "mean               -0.002148     19.742193  \n",
       "std                 0.498508      8.234790  \n",
       "min                -0.997937      0.353436  \n",
       "25%                -0.402976     13.298351  \n",
       "50%                -0.001741     18.741689  \n",
       "75%                 0.398388     25.434019  \n",
       "max                 0.997447     49.819117  "
      ]
     },
     "execution_count": 7,
     "metadata": {},
     "output_type": "execute_result"
    }
   ],
   "source": [
    "# Other methods to use to get some information about your dataset. By default, using .describe() provides some summary\n",
    "# statistics of what kind of data?\n",
    "train_data_raw.describe()"
   ]
  },
  {
   "cell_type": "code",
   "execution_count": 8,
   "metadata": {},
   "outputs": [
    {
     "data": {
      "text/html": [
       "<div>\n",
       "<style scoped>\n",
       "    .dataframe tbody tr th:only-of-type {\n",
       "        vertical-align: middle;\n",
       "    }\n",
       "\n",
       "    .dataframe tbody tr th {\n",
       "        vertical-align: top;\n",
       "    }\n",
       "\n",
       "    .dataframe thead th {\n",
       "        text-align: right;\n",
       "    }\n",
       "</style>\n",
       "<table border=\"1\" class=\"dataframe\">\n",
       "  <thead>\n",
       "    <tr style=\"text-align: right;\">\n",
       "      <th></th>\n",
       "      <th>source_latitude</th>\n",
       "      <th>source_longitude</th>\n",
       "      <th>destination_latitude</th>\n",
       "      <th>destination_longitude</th>\n",
       "      <th>time_of_day_ts</th>\n",
       "      <th>commute_type</th>\n",
       "      <th>commute_time</th>\n",
       "    </tr>\n",
       "  </thead>\n",
       "  <tbody>\n",
       "    <tr>\n",
       "      <td>count</td>\n",
       "      <td>20000.000000</td>\n",
       "      <td>20000.000000</td>\n",
       "      <td>20000.000000</td>\n",
       "      <td>20000.000000</td>\n",
       "      <td>20000</td>\n",
       "      <td>20000</td>\n",
       "      <td>20000.000000</td>\n",
       "    </tr>\n",
       "    <tr>\n",
       "      <td>unique</td>\n",
       "      <td>NaN</td>\n",
       "      <td>NaN</td>\n",
       "      <td>NaN</td>\n",
       "      <td>NaN</td>\n",
       "      <td>1356</td>\n",
       "      <td>5</td>\n",
       "      <td>NaN</td>\n",
       "    </tr>\n",
       "    <tr>\n",
       "      <td>top</td>\n",
       "      <td>NaN</td>\n",
       "      <td>NaN</td>\n",
       "      <td>NaN</td>\n",
       "      <td>NaN</td>\n",
       "      <td>2018-08-13 08:07:00</td>\n",
       "      <td>CAR</td>\n",
       "      <td>NaN</td>\n",
       "    </tr>\n",
       "    <tr>\n",
       "      <td>freq</td>\n",
       "      <td>NaN</td>\n",
       "      <td>NaN</td>\n",
       "      <td>NaN</td>\n",
       "      <td>NaN</td>\n",
       "      <td>70</td>\n",
       "      <td>6995</td>\n",
       "      <td>NaN</td>\n",
       "    </tr>\n",
       "    <tr>\n",
       "      <td>first</td>\n",
       "      <td>NaN</td>\n",
       "      <td>NaN</td>\n",
       "      <td>NaN</td>\n",
       "      <td>NaN</td>\n",
       "      <td>2018-08-13 00:00:00</td>\n",
       "      <td>NaN</td>\n",
       "      <td>NaN</td>\n",
       "    </tr>\n",
       "    <tr>\n",
       "      <td>last</td>\n",
       "      <td>NaN</td>\n",
       "      <td>NaN</td>\n",
       "      <td>NaN</td>\n",
       "      <td>NaN</td>\n",
       "      <td>2018-08-13 23:59:00</td>\n",
       "      <td>NaN</td>\n",
       "      <td>NaN</td>\n",
       "    </tr>\n",
       "    <tr>\n",
       "      <td>mean</td>\n",
       "      <td>-0.002115</td>\n",
       "      <td>0.001366</td>\n",
       "      <td>0.004656</td>\n",
       "      <td>-0.002148</td>\n",
       "      <td>NaN</td>\n",
       "      <td>NaN</td>\n",
       "      <td>19.742193</td>\n",
       "    </tr>\n",
       "    <tr>\n",
       "      <td>std</td>\n",
       "      <td>0.494554</td>\n",
       "      <td>0.501270</td>\n",
       "      <td>0.498530</td>\n",
       "      <td>0.498508</td>\n",
       "      <td>NaN</td>\n",
       "      <td>NaN</td>\n",
       "      <td>8.234790</td>\n",
       "    </tr>\n",
       "    <tr>\n",
       "      <td>min</td>\n",
       "      <td>-0.996771</td>\n",
       "      <td>-0.997894</td>\n",
       "      <td>-0.998336</td>\n",
       "      <td>-0.997937</td>\n",
       "      <td>NaN</td>\n",
       "      <td>NaN</td>\n",
       "      <td>0.353436</td>\n",
       "    </tr>\n",
       "    <tr>\n",
       "      <td>25%</td>\n",
       "      <td>-0.394784</td>\n",
       "      <td>-0.404452</td>\n",
       "      <td>-0.397990</td>\n",
       "      <td>-0.402976</td>\n",
       "      <td>NaN</td>\n",
       "      <td>NaN</td>\n",
       "      <td>13.298351</td>\n",
       "    </tr>\n",
       "    <tr>\n",
       "      <td>50%</td>\n",
       "      <td>-0.002029</td>\n",
       "      <td>0.003488</td>\n",
       "      <td>0.007838</td>\n",
       "      <td>-0.001741</td>\n",
       "      <td>NaN</td>\n",
       "      <td>NaN</td>\n",
       "      <td>18.741689</td>\n",
       "    </tr>\n",
       "    <tr>\n",
       "      <td>75%</td>\n",
       "      <td>0.392261</td>\n",
       "      <td>0.406670</td>\n",
       "      <td>0.405283</td>\n",
       "      <td>0.398388</td>\n",
       "      <td>NaN</td>\n",
       "      <td>NaN</td>\n",
       "      <td>25.434019</td>\n",
       "    </tr>\n",
       "    <tr>\n",
       "      <td>max</td>\n",
       "      <td>0.999195</td>\n",
       "      <td>0.998077</td>\n",
       "      <td>0.997996</td>\n",
       "      <td>0.997447</td>\n",
       "      <td>NaN</td>\n",
       "      <td>NaN</td>\n",
       "      <td>49.819117</td>\n",
       "    </tr>\n",
       "  </tbody>\n",
       "</table>\n",
       "</div>"
      ],
      "text/plain": [
       "        source_latitude  source_longitude  destination_latitude  \\\n",
       "count      20000.000000      20000.000000          20000.000000   \n",
       "unique              NaN               NaN                   NaN   \n",
       "top                 NaN               NaN                   NaN   \n",
       "freq                NaN               NaN                   NaN   \n",
       "first               NaN               NaN                   NaN   \n",
       "last                NaN               NaN                   NaN   \n",
       "mean          -0.002115          0.001366              0.004656   \n",
       "std            0.494554          0.501270              0.498530   \n",
       "min           -0.996771         -0.997894             -0.998336   \n",
       "25%           -0.394784         -0.404452             -0.397990   \n",
       "50%           -0.002029          0.003488              0.007838   \n",
       "75%            0.392261          0.406670              0.405283   \n",
       "max            0.999195          0.998077              0.997996   \n",
       "\n",
       "        destination_longitude       time_of_day_ts commute_type  commute_time  \n",
       "count            20000.000000                20000        20000  20000.000000  \n",
       "unique                    NaN                 1356            5           NaN  \n",
       "top                       NaN  2018-08-13 08:07:00          CAR           NaN  \n",
       "freq                      NaN                   70         6995           NaN  \n",
       "first                     NaN  2018-08-13 00:00:00          NaN           NaN  \n",
       "last                      NaN  2018-08-13 23:59:00          NaN           NaN  \n",
       "mean                -0.002148                  NaN          NaN     19.742193  \n",
       "std                  0.498508                  NaN          NaN      8.234790  \n",
       "min                 -0.997937                  NaN          NaN      0.353436  \n",
       "25%                 -0.402976                  NaN          NaN     13.298351  \n",
       "50%                 -0.001741                  NaN          NaN     18.741689  \n",
       "75%                  0.398388                  NaN          NaN     25.434019  \n",
       "max                  0.997447                  NaN          NaN     49.819117  "
      ]
     },
     "execution_count": 8,
     "metadata": {},
     "output_type": "execute_result"
    }
   ],
   "source": [
    "# In case it is of interest, there are kwargs that will provide additional information.\n",
    "train_data_raw.describe(include='all')"
   ]
  },
  {
   "cell_type": "code",
   "execution_count": 9,
   "metadata": {},
   "outputs": [
    {
     "data": {
      "text/plain": [
       "(20000, 7)"
      ]
     },
     "execution_count": 9,
     "metadata": {},
     "output_type": "execute_result"
    }
   ],
   "source": [
    "# There is a quick way to learn what size dataset you are working with. .shape will return (rows, columns).\n",
    "train_data_raw.shape"
   ]
  },
  {
   "cell_type": "code",
   "execution_count": 10,
   "metadata": {},
   "outputs": [
    {
     "data": {
      "text/plain": [
       "source_latitude                 float64\n",
       "source_longitude                float64\n",
       "destination_latitude            float64\n",
       "destination_longitude           float64\n",
       "time_of_day_ts           datetime64[ns]\n",
       "commute_type                     object\n",
       "commute_time                    float64\n",
       "dtype: object"
      ]
     },
     "execution_count": 10,
     "metadata": {},
     "output_type": "execute_result"
    }
   ],
   "source": [
    "# It's important to know what data types are in your dataset! It's not usually a good idea to make assumptions about \n",
    "# the data you are working with. \n",
    "train_data_raw.dtypes"
   ]
  },
  {
   "cell_type": "markdown",
   "metadata": {},
   "source": [
    "### Note: np.NaN != [None, 0] \n",
    "NaN is very useful because you can leverage vectorized operations in numpy. The data type for each of those values (NaN, None, 0) is different. Think about this when you consider how to impute or otherwise handle missing data."
   ]
  },
  {
   "cell_type": "code",
   "execution_count": 11,
   "metadata": {},
   "outputs": [
    {
     "data": {
      "text/plain": [
       "False"
      ]
     },
     "execution_count": 11,
     "metadata": {},
     "output_type": "execute_result"
    }
   ],
   "source": [
    "# Are there any missing data in this dataset?\n",
    "train_data_raw.isnull().values.any()"
   ]
  },
  {
   "cell_type": "code",
   "execution_count": 12,
   "metadata": {},
   "outputs": [
    {
     "data": {
      "text/plain": [
       "source_latitude          0\n",
       "source_longitude         0\n",
       "destination_latitude     0\n",
       "destination_longitude    0\n",
       "time_of_day_ts           0\n",
       "commute_type             0\n",
       "commute_time             0\n",
       "dtype: int64"
      ]
     },
     "execution_count": 12,
     "metadata": {},
     "output_type": "execute_result"
    }
   ],
   "source": [
    "# If there are NaNs, how many are present in each column?\n",
    "train_data_raw.isnull().sum()"
   ]
  },
  {
   "cell_type": "markdown",
   "metadata": {},
   "source": [
    "__________\n",
    "Notes (markdown):"
   ]
  },
  {
   "cell_type": "code",
   "execution_count": null,
   "metadata": {},
   "outputs": [],
   "source": [
    "# Scratch area (code)"
   ]
  },
  {
   "cell_type": "markdown",
   "metadata": {},
   "source": [
    "## Quick Insights Through Quick Vizualizations"
   ]
  },
  {
   "cell_type": "markdown",
   "metadata": {
    "collapsed": true
   },
   "source": [
    "Let's continue learning about the data with some visualizations"
   ]
  },
  {
   "cell_type": "markdown",
   "metadata": {},
   "source": [
    "### FIXME: Unclear why these visualizations are interesting or important"
   ]
  },
  {
   "cell_type": "code",
   "execution_count": 13,
   "metadata": {},
   "outputs": [
    {
     "data": {
      "image/png": "[encoded data removed]",
      "text/plain": [
       "<Figure size 432x288 with 1 Axes>"
      ]
     },
     "metadata": {
      "needs_background": "light"
     },
     "output_type": "display_data"
    }
   ],
   "source": [
    "# Can we discern any information from lat long?\n",
    "train_data_raw.plot.scatter(x='source_latitude', y='source_longitude', marker='.')\n",
    "plt.title('Source of Commute');"
   ]
  },
  {
   "cell_type": "code",
   "execution_count": 14,
   "metadata": {},
   "outputs": [
    {
     "data": {
      "image/png": "[encoded data removed]",
      "text/plain": [
       "<Figure size 432x288 with 1 Axes>"
      ]
     },
     "metadata": {
      "needs_background": "light"
     },
     "output_type": "display_data"
    }
   ],
   "source": [
    "train_data_raw.plot.scatter(x='destination_latitude', y='destination_longitude', marker='.')\n",
    "plt.title('Destination of Commute');"
   ]
  },
  {
   "cell_type": "code",
   "execution_count": 15,
   "metadata": {},
   "outputs": [
    {
     "data": {
      "image/png": "[encoded data removed]",
      "text/plain": [
       "<Figure size 1080x360 with 1 Axes>"
      ]
     },
     "metadata": {
      "needs_background": "light"
     },
     "output_type": "display_data"
    }
   ],
   "source": [
    "# This will show the distribution of commute times.\n",
    "plt.figure(figsize=(15,5))\n",
    "train_data_raw['commute_time'].hist(bins=50)\n",
    "plt.title('Histogram of Commute Times')\n",
    "plt.xlabel('Minutes')\n",
    "plt.ylabel('Counts');"
   ]
  },
  {
   "cell_type": "code",
   "execution_count": 16,
   "metadata": {},
   "outputs": [
    {
     "data": {
      "text/plain": [
       "commute_type\n",
       "BIKE     3008\n",
       "BUS      6453\n",
       "CAR      6995\n",
       "TRAIN    2498\n",
       "WALK     1046\n",
       "dtype: int64"
      ]
     },
     "execution_count": 16,
     "metadata": {},
     "output_type": "execute_result"
    }
   ],
   "source": [
    "# How about a table showing commuters of each type?\n",
    "train_data_raw.groupby('commute_type').size()"
   ]
  },
  {
   "cell_type": "markdown",
   "metadata": {},
   "source": [
    "This is a nice summary table, but let's graph this out somehow."
   ]
  },
  {
   "cell_type": "code",
   "execution_count": 17,
   "metadata": {},
   "outputs": [
    {
     "data": {
      "image/png": "[encoded data removed]",
      "text/plain": [
       "<Figure size 1080x360 with 1 Axes>"
      ]
     },
     "metadata": {
      "needs_background": "light"
     },
     "output_type": "display_data"
    }
   ],
   "source": [
    "plt.figure(figsize=(15,5))\n",
    "train_data_raw.groupby('commute_type').size().plot(kind='bar')\n",
    "plt.title('Count of Commute Types')\n",
    "plt.ylabel('Number of Commutes');"
   ]
  },
  {
   "cell_type": "markdown",
   "metadata": {},
   "source": [
    "What can you say about the data based on these graphs?"
   ]
  },
  {
   "cell_type": "markdown",
   "metadata": {},
   "source": [
    "__________\n",
    "Notes (markdown):"
   ]
  },
  {
   "cell_type": "code",
   "execution_count": null,
   "metadata": {},
   "outputs": [],
   "source": [
    "# Scratch area (code)"
   ]
  },
  {
   "cell_type": "markdown",
   "metadata": {},
   "source": [
    "## A Touch of Feature Transformation"
   ]
  },
  {
   "cell_type": "markdown",
   "metadata": {},
   "source": [
    "The current dtype of `time_of_day_ts` is not great for graphing. It might be a good idea to do something about it. "
   ]
  },
  {
   "cell_type": "markdown",
   "metadata": {
    "deletable": false,
    "editable": false
   },
   "source": [
    "### FIXME: Why isn't it great for graphing? What are we going to do?"
   ]
  },
  {
   "cell_type": "code",
   "execution_count": 1,
   "metadata": {},
   "outputs": [],
   "source": [
    "# This function converts this into a decimal between zero and twenty-four.\n",
    "\n",
    "def timestamp_to_decimal(ts):\n",
    "    \"\"\"Convert a timestamp datum into a decimal between zero and twenty-four.\n",
    "    \n",
    "    Parameters\n",
    "    ----------\n",
    "    ts: pd.Series of datetime.\n",
    "    \"\"\"\n",
    "    return ts.dt.hour + (1/60)*ts.dt.minute"
   ]
  },
  {
   "cell_type": "code",
   "execution_count": 6,
   "metadata": {},
   "outputs": [],
   "source": [
    "# Let's use our new function on the data and create a new column. Notice that the function is being used to transform \n",
    "# both the training AND testing datasets.\n",
    "train_data_raw['time_of_day'] = timestamp_to_decimal(\n",
    "    train_data_raw['time_of_day_ts'])\n",
    "test_data_raw['time_of_day'] = timestamp_to_decimal(\n",
    "    test_data_raw['time_of_day_ts'])"
   ]
  },
  {
   "cell_type": "code",
   "execution_count": 20,
   "metadata": {},
   "outputs": [
    {
     "data": {
      "image/png": "[encoded data removed]",
      "text/plain": [
       "<Figure size 1080x360 with 1 Axes>"
      ]
     },
     "metadata": {
      "needs_background": "light"
     },
     "output_type": "display_data"
    }
   ],
   "source": [
    "# Now that time of day is represented by a number from 0 to 24, let's see how many trips are being made throughout \n",
    "# the day.\n",
    "plt.figure(figsize=(15,5))\n",
    "train_data_raw['time_of_day'].hist(bins=50)\n",
    "plt.title('Volume of Commutes by Time of Day')\n",
    "plt.xlabel('Time of Day')\n",
    "plt.ylabel('Volume of Commutes');"
   ]
  },
  {
   "cell_type": "markdown",
   "metadata": {},
   "source": [
    "__________\n",
    "Notes (markdown):"
   ]
  },
  {
   "cell_type": "code",
   "execution_count": null,
   "metadata": {},
   "outputs": [],
   "source": [
    "# Scratch area (code)"
   ]
  },
  {
   "cell_type": "markdown",
   "metadata": {},
   "source": [
    "## A Touch of Feature Engineering"
   ]
  },
  {
   "cell_type": "markdown",
   "metadata": {},
   "source": [
    "### FIXME: link to concepts feature transformation"
   ]
  },
  {
   "cell_type": "markdown",
   "metadata": {},
   "source": [
    "We have visualized certain variables included in the dataset and noted how sometimes variables need to be transformed before they can be graphed in a meaningful way. \n",
    "\n",
    "We've looked at locations, commute types, commute times, time of day. The dataset contains information we can use to generate new features. \n",
    "\n",
    "Let's revisit location data because with a source and a destination, we can calculate distance."
   ]
  },
  {
   "cell_type": "markdown",
   "metadata": {},
   "source": [
    "![dist_image](https://slideplayer.com/slide/4829376/15/images/8/Some+Euclidean+Distances.jpg \"Euclidean\")"
   ]
  },
  {
   "cell_type": "markdown",
   "metadata": {},
   "source": [
    "### FIXME: Need more descriptive text of what is going on here"
   ]
  },
  {
   "cell_type": "code",
   "execution_count": 21,
   "metadata": {},
   "outputs": [],
   "source": [
    "# Euclidean distance is also known as L2.\n",
    "def euclidean_distance(source_x, source_y, target_x, target_y):\n",
    "    return np.sqrt((source_x - target_x)**2 + (source_y - target_y)**2)\n",
    "\n",
    "# Manhattan (or taxicab) distance is also known as L1.\n",
    "def manhattan_distance(source_x, source_y, target_x, target_y):\n",
    "    return np.abs(source_x - target_x) + np.abs(source_y - target_y)"
   ]
  },
  {
   "cell_type": "code",
   "execution_count": 23,
   "metadata": {},
   "outputs": [],
   "source": [
    "train_data_raw['euclidean_distance'] = euclidean_distance(\n",
    "    train_data_raw['source_latitude'], train_data_raw['source_longitude'],\n",
    "    train_data_raw['destination_latitude'], train_data_raw['destination_longitude'])\n",
    "test_data_raw['euclidean_distance'] = euclidean_distance(\n",
    "    test_data_raw['source_latitude'], test_data_raw['source_longitude'],\n",
    "    test_data_raw['destination_latitude'], test_data_raw['destination_longitude'])\n",
    "\n",
    "train_data_raw['manhattan_distance'] = manhattan_distance(\n",
    "    train_data_raw['source_latitude'], train_data_raw['source_longitude'],\n",
    "    train_data_raw['destination_latitude'], train_data_raw['destination_longitude'])\n",
    "test_data_raw['manhattan_distance'] = manhattan_distance(\n",
    "    test_data_raw['source_latitude'], test_data_raw['source_longitude'],\n",
    "    test_data_raw['destination_latitude'], test_data_raw['destination_longitude'])"
   ]
  },
  {
   "cell_type": "markdown",
   "metadata": {},
   "source": [
    "__________\n",
    "Notes (markdown):"
   ]
  },
  {
   "cell_type": "code",
   "execution_count": null,
   "metadata": {},
   "outputs": [],
   "source": [
    "# Scratch area (code)"
   ]
  },
  {
   "cell_type": "markdown",
   "metadata": {},
   "source": [
    "### Challenge:\n",
    "##### The code above was a lot to read and pretty repetitious.\n",
    "##### We've mentioned the idea of avoiding repeated code where possible, particularly to avoid errors that pop up when making the same edit in multiple places.\n",
    "##### What could we do to avoid having to type the same code multiple times?"
   ]
  },
  {
   "cell_type": "markdown",
   "metadata": {},
   "source": [
    "### FIXME: Need solutions to this challenge"
   ]
  },
  {
   "cell_type": "code",
   "execution_count": 24,
   "metadata": {},
   "outputs": [],
   "source": [
    "# Use this template to start if you want. \n",
    "# The docstring format below is one common convention.\n",
    "# There are other good conventions represented elsewhere in FH materials.\n",
    "# None of these is exactly right or wrong, but the important things are consistency and clarity.\n",
    "def create_distance_features(df):\n",
    "    \"\"\"Describe what the function does here.\n",
    "    \n",
    "    Parameters\n",
    "    ----------\n",
    "    df: Important notes about our argument df here.\n",
    "    \"\"\"\n",
    "    pass\n",
    "# I've included a possible solution near the bottom of the document."
   ]
  },
  {
   "cell_type": "markdown",
   "metadata": {},
   "source": [
    "__________\n",
    "Notes (markdown):"
   ]
  },
  {
   "cell_type": "code",
   "execution_count": null,
   "metadata": {},
   "outputs": [],
   "source": [
    "# Scratch area (code)"
   ]
  },
  {
   "cell_type": "markdown",
   "metadata": {},
   "source": [
    "#### Let's look at the counts for different distances using our new distance features."
   ]
  },
  {
   "cell_type": "code",
   "execution_count": 25,
   "metadata": {},
   "outputs": [
    {
     "data": {
      "image/png": "[encoded data removed]",
      "text/plain": [
       "<Figure size 1080x360 with 1 Axes>"
      ]
     },
     "metadata": {
      "needs_background": "light"
     },
     "output_type": "display_data"
    }
   ],
   "source": [
    "plt.figure(figsize=(15,5))\n",
    "train_data_raw['euclidean_distance'].hist(bins=50)\n",
    "plt.title('Euclidean Commute Distance')\n",
    "plt.xlabel('Euclidean Distance')\n",
    "plt.ylabel('Number of Commuters');"
   ]
  },
  {
   "cell_type": "code",
   "execution_count": 26,
   "metadata": {},
   "outputs": [
    {
     "data": {
      "image/png": "[encoded data removed]",
      "text/plain": [
       "<Figure size 1080x360 with 1 Axes>"
      ]
     },
     "metadata": {
      "needs_background": "light"
     },
     "output_type": "display_data"
    }
   ],
   "source": [
    "plt.figure(figsize=(15,5))\n",
    "train_data_raw['manhattan_distance'].hist(bins=50)\n",
    "plt.title('Manhattan Commute Distance')\n",
    "plt.xlabel('Manhattan Distance')\n",
    "plt.ylabel('Number of Commuters');"
   ]
  },
  {
   "cell_type": "markdown",
   "metadata": {},
   "source": [
    "Now that we have some information about distance, do you have a guess for which type is related to commute time? "
   ]
  },
  {
   "cell_type": "markdown",
   "metadata": {},
   "source": [
    "### FIXME: which type is related to commute time? Why is this important?"
   ]
  },
  {
   "cell_type": "markdown",
   "metadata": {},
   "source": [
    "__________\n",
    "Notes (markdown):"
   ]
  },
  {
   "cell_type": "code",
   "execution_count": null,
   "metadata": {},
   "outputs": [],
   "source": [
    "# Scratch area (code)"
   ]
  },
  {
   "cell_type": "markdown",
   "metadata": {},
   "source": [
    "## MOAR features\n",
    "### At this point, we have done some feature engineering with numerical (continuous) data. What do you do with categorical data?"
   ]
  },
  {
   "cell_type": "markdown",
   "metadata": {},
   "source": [
    "### FIXME: Change title to 'Categorical feature engineering'?"
   ]
  },
  {
   "cell_type": "code",
   "execution_count": 27,
   "metadata": {},
   "outputs": [],
   "source": [
    "# The computer can't typically make sense of 'BIKE', 'CAR', etc, but it does understand \n",
    "# 0 and 1 and combinations of those digits.\n",
    "# Each of these combinations can be referred to as a level or category of a particular feature.\n",
    "# Why does it make sense to leave one (level) out? By process of elimination, if a datapoint isn't \n",
    "# one of the n-1 levels, it must be the nth.\n",
    "\n",
    "def create_indicator_features(feature, leave_one_out=True):\n",
    "    # Sort the levels so we always get the same ordering of new features.\n",
    "    levels = list(sorted(np.unique(feature)))\n",
    "    # If we need to leave one out to avoid identifiability issues, we will \n",
    "    # leave out the *last* level, in sorted order.\n",
    "    if leave_one_out:\n",
    "        levels = levels[:-1]\n",
    "    indicator_features = []\n",
    "    for level in levels:\n",
    "        indicator_feature = (feature == level)\n",
    "        indicator_feature_name = \"is_{0}\".format(level)\n",
    "        indicator_features.append(\n",
    "            pd.Series(indicator_feature, \n",
    "                      name=indicator_feature_name, \n",
    "                      index=feature.index,\n",
    "                      dtype=int))\n",
    "    return pd.concat(indicator_features, axis=1)"
   ]
  },
  {
   "cell_type": "code",
   "execution_count": 29,
   "metadata": {},
   "outputs": [
    {
     "data": {
      "text/html": [
       "<div>\n",
       "<style scoped>\n",
       "    .dataframe tbody tr th:only-of-type {\n",
       "        vertical-align: middle;\n",
       "    }\n",
       "\n",
       "    .dataframe tbody tr th {\n",
       "        vertical-align: top;\n",
       "    }\n",
       "\n",
       "    .dataframe thead th {\n",
       "        text-align: right;\n",
       "    }\n",
       "</style>\n",
       "<table border=\"1\" class=\"dataframe\">\n",
       "  <thead>\n",
       "    <tr style=\"text-align: right;\">\n",
       "      <th></th>\n",
       "      <th>is_BIKE</th>\n",
       "      <th>is_BUS</th>\n",
       "      <th>is_CAR</th>\n",
       "      <th>is_TRAIN</th>\n",
       "    </tr>\n",
       "  </thead>\n",
       "  <tbody>\n",
       "    <tr>\n",
       "      <td>0</td>\n",
       "      <td>0</td>\n",
       "      <td>1</td>\n",
       "      <td>0</td>\n",
       "      <td>0</td>\n",
       "    </tr>\n",
       "    <tr>\n",
       "      <td>1</td>\n",
       "      <td>0</td>\n",
       "      <td>0</td>\n",
       "      <td>1</td>\n",
       "      <td>0</td>\n",
       "    </tr>\n",
       "    <tr>\n",
       "      <td>2</td>\n",
       "      <td>1</td>\n",
       "      <td>0</td>\n",
       "      <td>0</td>\n",
       "      <td>0</td>\n",
       "    </tr>\n",
       "    <tr>\n",
       "      <td>3</td>\n",
       "      <td>0</td>\n",
       "      <td>0</td>\n",
       "      <td>1</td>\n",
       "      <td>0</td>\n",
       "    </tr>\n",
       "    <tr>\n",
       "      <td>4</td>\n",
       "      <td>0</td>\n",
       "      <td>0</td>\n",
       "      <td>0</td>\n",
       "      <td>1</td>\n",
       "    </tr>\n",
       "    <tr>\n",
       "      <td>5</td>\n",
       "      <td>0</td>\n",
       "      <td>0</td>\n",
       "      <td>0</td>\n",
       "      <td>1</td>\n",
       "    </tr>\n",
       "    <tr>\n",
       "      <td>6</td>\n",
       "      <td>0</td>\n",
       "      <td>1</td>\n",
       "      <td>0</td>\n",
       "      <td>0</td>\n",
       "    </tr>\n",
       "    <tr>\n",
       "      <td>7</td>\n",
       "      <td>1</td>\n",
       "      <td>0</td>\n",
       "      <td>0</td>\n",
       "      <td>0</td>\n",
       "    </tr>\n",
       "    <tr>\n",
       "      <td>8</td>\n",
       "      <td>0</td>\n",
       "      <td>0</td>\n",
       "      <td>0</td>\n",
       "      <td>0</td>\n",
       "    </tr>\n",
       "    <tr>\n",
       "      <td>9</td>\n",
       "      <td>0</td>\n",
       "      <td>1</td>\n",
       "      <td>0</td>\n",
       "      <td>0</td>\n",
       "    </tr>\n",
       "  </tbody>\n",
       "</table>\n",
       "</div>"
      ],
      "text/plain": [
       "   is_BIKE  is_BUS  is_CAR  is_TRAIN\n",
       "0        0       1       0         0\n",
       "1        0       0       1         0\n",
       "2        1       0       0         0\n",
       "3        0       0       1         0\n",
       "4        0       0       0         1\n",
       "5        0       0       0         1\n",
       "6        0       1       0         0\n",
       "7        1       0       0         0\n",
       "8        0       0       0         0\n",
       "9        0       1       0         0"
      ]
     },
     "execution_count": 29,
     "metadata": {},
     "output_type": "execute_result"
    }
   ],
   "source": [
    "commute_type_features_train = create_indicator_features(train_data_raw['commute_type'])\n",
    "commute_type_features_test = create_indicator_features(test_data_raw['commute_type'])\n",
    "\n",
    "commute_type_features_train.head(10)"
   ]
  },
  {
   "cell_type": "code",
   "execution_count": 2,
   "metadata": {},
   "outputs": [
    {
     "ename": "NameError",
     "evalue": "name 'train_data_raw' is not defined",
     "output_type": "error",
     "traceback": [
      "\u001b[0;31m---------------------------------------------------------------------------\u001b[0m",
      "\u001b[0;31mNameError\u001b[0m                                 Traceback (most recent call last)",
      "\u001b[0;32m<ipython-input-2-6fae5f1f4e2f>\u001b[0m in \u001b[0;36m<module>\u001b[0;34m\u001b[0m\n\u001b[1;32m      1\u001b[0m \u001b[0;31m# Drop unnecessary columns before moving on.\u001b[0m\u001b[0;34m\u001b[0m\u001b[0;34m\u001b[0m\u001b[0;34m\u001b[0m\u001b[0m\n\u001b[0;32m----> 2\u001b[0;31m \u001b[0mtrain_data_raw\u001b[0m \u001b[0;34m=\u001b[0m \u001b[0mtrain_data_raw\u001b[0m\u001b[0;34m.\u001b[0m\u001b[0mdrop\u001b[0m\u001b[0;34m(\u001b[0m\u001b[0;34m[\u001b[0m\u001b[0;34m'time_of_day_ts'\u001b[0m\u001b[0;34m,\u001b[0m \u001b[0;34m'commute_type'\u001b[0m\u001b[0;34m]\u001b[0m\u001b[0;34m,\u001b[0m \u001b[0maxis\u001b[0m\u001b[0;34m=\u001b[0m\u001b[0;36m1\u001b[0m\u001b[0;34m)\u001b[0m\u001b[0;34m\u001b[0m\u001b[0;34m\u001b[0m\u001b[0m\n\u001b[0m\u001b[1;32m      3\u001b[0m \u001b[0mtest_data_raw\u001b[0m \u001b[0;34m=\u001b[0m \u001b[0mtest_data_raw\u001b[0m\u001b[0;34m.\u001b[0m\u001b[0mdrop\u001b[0m\u001b[0;34m(\u001b[0m\u001b[0;34m[\u001b[0m\u001b[0;34m'time_of_day_ts'\u001b[0m\u001b[0;34m,\u001b[0m \u001b[0;34m'commute_type'\u001b[0m\u001b[0;34m]\u001b[0m\u001b[0;34m,\u001b[0m \u001b[0maxis\u001b[0m\u001b[0;34m=\u001b[0m\u001b[0;36m1\u001b[0m\u001b[0;34m)\u001b[0m\u001b[0;34m\u001b[0m\u001b[0;34m\u001b[0m\u001b[0m\n",
      "\u001b[0;31mNameError\u001b[0m: name 'train_data_raw' is not defined"
     ]
    }
   ],
   "source": [
    "# Drop unnecessary columns before moving on.\n",
    "train_data_raw = train_data_raw.drop(['time_of_day_ts', 'commute_type'], axis=1)\n",
    "test_data_raw = test_data_raw.drop(['time_of_day_ts', 'commute_type'], axis=1)"
   ]
  },
  {
   "cell_type": "code",
   "execution_count": 31,
   "metadata": {},
   "outputs": [],
   "source": [
    "# Combine our new indicator variables to the original dataframes.\n",
    "train_data_processed = pd.concat([train_data_raw, commute_type_features_train], axis=1)\n",
    "test_data_processed = pd.concat([test_data_raw, commute_type_features_test], axis=1)"
   ]
  },
  {
   "cell_type": "code",
   "execution_count": 32,
   "metadata": {},
   "outputs": [],
   "source": [
    "# Save our processed data to a directory\n",
    "train_data_processed.to_csv('../data/train_data_processed.csv')\n",
    "test_data_processed.to_csv('../data/test_data_processed.csv')"
   ]
  },
  {
   "cell_type": "markdown",
   "metadata": {},
   "source": [
    "__________\n",
    "Notes (markdown):"
   ]
  },
  {
   "cell_type": "code",
   "execution_count": null,
   "metadata": {},
   "outputs": [],
   "source": [
    "# Scratch area (code)"
   ]
  },
  {
   "cell_type": "markdown",
   "metadata": {},
   "source": [
    "## A bit more practice with some python ideas: \n",
    "* Defining functions, using for loops, simplifying your life..."
   ]
  },
  {
   "cell_type": "markdown",
   "metadata": {},
   "source": [
    "A possible solution to one of the questions above. Did yours look something like this?"
   ]
  },
  {
   "cell_type": "code",
   "execution_count": null,
   "metadata": {},
   "outputs": [],
   "source": [
    "def create_distance_features(df):\n",
    "    \"\"\"Add 'euclidean_distance' and 'manhattan_distance' feaures to a DataFrame.\n",
    "    \n",
    "    Parameters\n",
    "    ----------\n",
    "    df: pd.Dataframe with features 'source_latitude', 'source_longitude', 'destination_latitude', \n",
    "    and 'destination_longitude'.\n",
    "    \"\"\"\n",
    "    coordinates = [df['source_latitude'], df['source_longitude'], \n",
    "                   df['destination_latitude'], df['destination_longitude']]\n",
    "    df['euclidean_distance'] = euclidean_distance(coordinates)\n",
    "    df['manhattan_distance'] = manhattan_distance(coordinates)\n",
    "    return df"
   ]
  },
  {
   "cell_type": "markdown",
   "metadata": {},
   "source": [
    "__________\n",
    "Notes (markdown):"
   ]
  },
  {
   "cell_type": "code",
   "execution_count": null,
   "metadata": {},
   "outputs": [],
   "source": [
    "# Scratch area (code)"
   ]
  },
  {
   "cell_type": "markdown",
   "metadata": {},
   "source": [
    "### FIXME: What is the purpose of the section below?"
   ]
  },
  {
   "cell_type": "markdown",
   "metadata": {},
   "source": [
    "## Even more practice with python ideas:\n",
    "* Using classes to maintain desired behavior within pipelines..."
   ]
  },
  {
   "cell_type": "markdown",
   "metadata": {},
   "source": [
    "Later on, we'll want the ability to include our functions in a workflow to transform data in a consistent way, particularly when performing transformations separately on the **train** and **test** partitions of a dataset. It's common maintain control of inputs and outputs by writing a wrapper function to call functions in a specific order. \n",
    "\n",
    "Another good way to maintain consistent control is to write classes that perform the necessary work while integrating nicely with existing pipeline elements, such as those from scikit-learn."
   ]
  },
  {
   "cell_type": "markdown",
   "metadata": {},
   "source": [
    "Earlier, we defined the *function* `create_indicator_features` to allow us to convert a single categorical variable into a number of binary indicator features (sometimes called dummy variables) for the different levels/categories in the original column.\n",
    "\n",
    "The code below is from an early attempt to create a version of `pandas.get_dummies` that maintains the **ordering** of our new features regardless of differences in levels for **train** and **test** sets. I chose to write it as a *class* in order to integrate more easily with pipelines calling the `fit` and `transform` methods found throughout `scikit-learn`."
   ]
  },
  {
   "cell_type": "code",
   "execution_count": null,
   "metadata": {},
   "outputs": [],
   "source": [
    "#import numpy as np\n",
    "#import pandas as pd\n",
    "\n",
    "\n",
    "class DummyMaker:\n",
    "    \"\"\"Class takes a categorical variable and returns a DataFrame with a column\n",
    "    for each category having values of 0 or 1 for each row.\n",
    "    A string passed to the constructor will become a prefix for dummy\n",
    "    column names.\n",
    "    \"\"\"\n",
    "\n",
    "    def __init__(self, prefix=None):\n",
    "        self.levels = None\n",
    "        if prefix is None:\n",
    "            self.prefix = \"\"\n",
    "        else:\n",
    "            self.prefix = prefix + \"__\"\n",
    "        self.colnames = None\n",
    "\n",
    "    def fit(self, categorical_column):\n",
    "        \"\"\"Store the levels from categorical_column, a pd.Series (df[colname]).\n",
    "        unique_cats is a list of unique categories in that column.\n",
    "        self.colnames creates dummy column names with optional prefix.\n",
    "        \"\"\"\n",
    "        unique_cats = np.unique(categorical_column)\n",
    "        self.levels = unique_cats\n",
    "        self.colnames = [self.prefix + level.replace(\" \", \"_\")\n",
    "                         for level in self.levels]\n",
    "\n",
    "    def transform(self, categorical_column, k_minus_one=False):\n",
    "        \"\"\"If k_minus_one=True, the column representing the first unique category\n",
    "        is dropped.\n",
    "        The indexing of categorical_column is preserved in the new DataFrame.\n",
    "        \"\"\"\n",
    "        num_rows = len(categorical_column)\n",
    "        num_features = len(self.levels)\n",
    "        dummies = np.zeros(shape=(num_rows, num_features))\n",
    "        for i, value in enumerate(self.levels):\n",
    "            dummies[:, i] = (categorical_column == value).astype(int)\n",
    "        if k_minus_one == True:\n",
    "            return pd.DataFrame(dummies[:, 1:], columns=self.colnames[1:],\n",
    "                                index=categorical_column.index)\n",
    "        else:\n",
    "            return pd.DataFrame(dummies, columns=self.colnames,\n",
    "                                index=categorical_column.index)"
   ]
  },
  {
   "cell_type": "markdown",
   "metadata": {},
   "source": [
    "### FIXME: Need challenge solutions"
   ]
  },
  {
   "cell_type": "markdown",
   "metadata": {},
   "source": [
    "### Challenge:\n",
    "##### Do any issues pop out that might arise from the use of the above code in a production environment?\n",
    "##### How could you improve the above code to avoid those issues?\n",
    "##### Could you write a series of tests that would allow you to assess whether the above code functions properly in all the important cases?\n",
    "##### How would you go about writing your own version of a dummy/indicator variable maker?"
   ]
  },
  {
   "cell_type": "markdown",
   "metadata": {},
   "source": [
    "__________\n",
    "Notes (markdown):"
   ]
  },
  {
   "cell_type": "code",
   "execution_count": null,
   "metadata": {},
   "outputs": [],
   "source": [
    "# Scratch area (code)"
   ]
  }
 ],
 "metadata": {
  "celltoolbar": "Raw Cell Format",
  "kernelspec": {
   "display_name": "Python 3",
   "language": "python",
   "name": "python3"
  },
  "language_info": {
   "codemirror_mode": {
    "name": "ipython",
    "version": 3
   },
   "file_extension": ".py",
   "mimetype": "text/x-python",
   "name": "python",
   "nbconvert_exporter": "python",
   "pygments_lexer": "ipython3",
   "version": "3.7.6"
  }
 },
 "nbformat": 4,
 "nbformat_minor": 2
}
